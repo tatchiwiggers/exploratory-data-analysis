{
 "cells": [
  {
   "cell_type": "markdown",
   "id": "8300eef2-83da-45d8-b509-0de9cc818652",
   "metadata": {
    "tags": []
   },
   "source": [
    "# Data Analysis"
   ]
  },
  {
   "cell_type": "code",
   "execution_count": 17,
   "id": "ff59699e-9b8e-4a97-8d85-4a436fafd4b5",
   "metadata": {
    "tags": []
   },
   "outputs": [
    {
     "data": {
      "text/plain": [
       "4"
      ]
     },
     "execution_count": 17,
     "metadata": {},
     "output_type": "execute_result"
    }
   ],
   "source": [
    "2+2"
   ]
  },
  {
   "cell_type": "code",
   "execution_count": 18,
   "id": "1390fe1b-a62f-4480-8203-b004dc82bab5",
   "metadata": {
    "tags": []
   },
   "outputs": [
    {
     "data": {
      "text/plain": [
       "'tatchi'"
      ]
     },
     "execution_count": 18,
     "metadata": {},
     "output_type": "execute_result"
    }
   ],
   "source": [
    "name = 'tatchi'\n",
    "name"
   ]
  },
  {
   "cell_type": "code",
   "execution_count": 19,
   "id": "462ce929-6ca4-43da-b16e-439cf7ef8b06",
   "metadata": {
    "tags": []
   },
   "outputs": [
    {
     "data": {
      "text/plain": [
       "11"
      ]
     },
     "execution_count": 19,
     "metadata": {},
     "output_type": "execute_result"
    }
   ],
   "source": [
    "5+6"
   ]
  },
  {
   "cell_type": "code",
   "execution_count": 20,
   "id": "2007f99b-a9b1-4b36-979c-24e3e690c42b",
   "metadata": {
    "tags": []
   },
   "outputs": [
    {
     "data": {
      "text/plain": [
       "2"
      ]
     },
     "execution_count": 20,
     "metadata": {},
     "output_type": "execute_result"
    }
   ],
   "source": [
    "1+1"
   ]
  },
  {
   "cell_type": "markdown",
   "id": "fa38fe0f-0b6b-41a6-a95c-371740c9dd90",
   "metadata": {},
   "source": [
    "<img src=\"images/quokka.jpg\"  width=\"450\" height=\"200\">"
   ]
  },
  {
   "cell_type": "code",
   "execution_count": 21,
   "id": "7e9a35c2-fabd-406f-8976-fb0a5ec7401a",
   "metadata": {
    "tags": []
   },
   "outputs": [
    {
     "name": "stdout",
     "output_type": "stream",
     "text": [
      "quokka.jpg\n"
     ]
    }
   ],
   "source": [
    "!ls images/"
   ]
  },
  {
   "cell_type": "code",
   "execution_count": 22,
   "id": "a24a708f-34d2-41d1-8029-1c80544a01d6",
   "metadata": {
    "tags": []
   },
   "outputs": [
    {
     "name": "stdout",
     "output_type": "stream",
     "text": [
      "/home/tatchiwiggers/code/batch-1209\n"
     ]
    }
   ],
   "source": [
    "!pwd"
   ]
  },
  {
   "cell_type": "markdown",
   "id": "94be6589-d27d-46ca-9785-3f43803e51b4",
   "metadata": {},
   "source": [
    "# Why Use Numpy"
   ]
  },
  {
   "cell_type": "code",
   "execution_count": 23,
   "id": "d13944d5-c0e8-4cca-9269-38a53a3112d2",
   "metadata": {
    "tags": []
   },
   "outputs": [
    {
     "name": "stdout",
     "output_type": "stream",
     "text": [
      "Size of each element of python list in bytes:  48\n",
      "Size of the whole python list in bytes:  48000\n"
     ]
    }
   ],
   "source": [
    "# VANILLA PYTHON\n",
    "# importing system module\n",
    "import sys\n",
    "  \n",
    "S = range(1000) # exclusive\n",
    "print(\"Size of each element of python list in bytes: \", sys.getsizeof(S))\n",
    "print(\"Size of the whole python list in bytes: \", sys.getsizeof(S)*len(S))"
   ]
  },
  {
   "cell_type": "code",
   "execution_count": 24,
   "id": "832826c7-fe24-4979-bdac-6fb96f94bf3d",
   "metadata": {
    "tags": []
   },
   "outputs": [
    {
     "name": "stdout",
     "output_type": "stream",
     "text": [
      "Size of each element of the Numpy array in bytes:  8\n",
      "Size of the whole Numpy array in bytes:  8000\n"
     ]
    }
   ],
   "source": [
    "# NUMPY\n",
    "import numpy as np # canonical import\n",
    "import sys\n",
    "\n",
    "D = np.arange(1000) # exclusive\n",
    "print(\"Size of each element of the Numpy array in bytes: \", D.itemsize)\n",
    "print(\"Size of the whole Numpy array in bytes: \", D.size*D.itemsize)"
   ]
  },
  {
   "cell_type": "code",
   "execution_count": 25,
   "id": "12c86359-0fe1-496d-bc9e-eaa5d78d3e56",
   "metadata": {
    "tags": []
   },
   "outputs": [
    {
     "name": "stdout",
     "output_type": "stream",
     "text": [
      "Time taken by Python Lists to perform multiplication: 0.09079670906066895 seconds\n",
      "Time taken by NumPy Arrays to perform multiplication: 0.003660440444946289 seconds\n"
     ]
    }
   ],
   "source": [
    "import numpy\n",
    "import time\n",
    "\n",
    "# size of arrays and lists\n",
    "size = 1_000_000\n",
    "\n",
    "# declaring python lists\n",
    "list1 = range(size) \n",
    "list2 = range(size)\n",
    "\n",
    "# declaring numpy arrays\n",
    "array1 = numpy.arange(size) # 0 999_999\n",
    "array2 = numpy.arange(size)\n",
    "\n",
    "# capturing time before the multiplication of Python lists\n",
    "initialTime = time.time()\n",
    "\n",
    "# multiplying elements of both the lists and stored in another list\n",
    "resultantList = [(a * b) for a, b in zip(list1, list2)]\n",
    "\n",
    "# calculating execution time for the above operation\n",
    "print(\"Time taken by Python Lists to perform multiplication:\",\n",
    "\t(time.time() - initialTime),\n",
    "\t\"seconds\")\n",
    "\n",
    "# capturing time before the multiplication of Numpy arrays\n",
    "initialTime = time.time()\n",
    "\n",
    "# multiplying elements of both the Numpy arrays and stored in another Numpy array\n",
    "resultantArray = array1 * array2\n",
    "\n",
    "# calculating execution time\n",
    "print(\"Time taken by NumPy Arrays to perform multiplication:\",\n",
    "\t(time.time() - initialTime),\n",
    "\t\"seconds\")\n",
    "# resultantList"
   ]
  },
  {
   "cell_type": "code",
   "execution_count": 26,
   "id": "d434ce8d-ee3c-433c-b06f-47e69c3b0549",
   "metadata": {
    "tags": []
   },
   "outputs": [
    {
     "data": {
      "text/plain": [
       "range(0, 1000000)"
      ]
     },
     "execution_count": 26,
     "metadata": {},
     "output_type": "execute_result"
    }
   ],
   "source": [
    "list1 = range(size)\n",
    "list1"
   ]
  },
  {
   "cell_type": "code",
   "execution_count": 27,
   "id": "a9805f93-8c43-43b3-b4b1-31aad287a9d5",
   "metadata": {
    "tags": []
   },
   "outputs": [
    {
     "data": {
      "text/plain": [
       "array([     0,      1,      2, ..., 999997, 999998, 999999])"
      ]
     },
     "execution_count": 27,
     "metadata": {},
     "output_type": "execute_result"
    }
   ],
   "source": [
    "array2 = numpy.arange(size)\n",
    "array2"
   ]
  },
  {
   "cell_type": "code",
   "execution_count": 74,
   "id": "325971a7-275d-4d61-a953-20e0e60617ae",
   "metadata": {
    "tags": []
   },
   "outputs": [],
   "source": [
    "# canonical imports\n",
    "import numpy as np\n",
    "import pandas as pd "
   ]
  },
  {
   "cell_type": "code",
   "execution_count": 31,
   "id": "ac4a9e2d-9a89-4bcf-baf7-00fad5f874ee",
   "metadata": {
    "tags": []
   },
   "outputs": [
    {
     "name": "stdout",
     "output_type": "stream",
     "text": [
      "<class 'list'>\n"
     ]
    }
   ],
   "source": [
    "my_list = [[1, 2, 3], [4, 5, 6]]\n",
    "print(type(my_list))"
   ]
  },
  {
   "cell_type": "code",
   "execution_count": 34,
   "id": "2a4a1ae6-86c1-466c-97fb-a1a16c78ecb1",
   "metadata": {
    "tags": []
   },
   "outputs": [
    {
     "name": "stdout",
     "output_type": "stream",
     "text": [
      "<class 'numpy.ndarray'>\n"
     ]
    }
   ],
   "source": [
    "data = [[1, 2, 3], [4, 5, 6]]\n",
    "A = np.array(data)\n",
    "print(type(A))"
   ]
  },
  {
   "cell_type": "code",
   "execution_count": 35,
   "id": "d510b1a1-4070-4d45-99e3-06e746a3777e",
   "metadata": {
    "tags": []
   },
   "outputs": [
    {
     "data": {
      "text/plain": [
       "array([[1, 2, 3],\n",
       "       [4, 5, 6]])"
      ]
     },
     "execution_count": 35,
     "metadata": {},
     "output_type": "execute_result"
    }
   ],
   "source": [
    "A"
   ]
  },
  {
   "cell_type": "code",
   "execution_count": 37,
   "id": "ef53b1cb-dc3a-46dd-b904-b2ef926f4a2d",
   "metadata": {
    "tags": []
   },
   "outputs": [
    {
     "data": {
      "text/plain": [
       "2"
      ]
     },
     "execution_count": 37,
     "metadata": {},
     "output_type": "execute_result"
    }
   ],
   "source": [
    "A.ndim # 2d array"
   ]
  },
  {
   "cell_type": "code",
   "execution_count": 38,
   "id": "68556c13-2945-40bf-954f-398f3764d8b4",
   "metadata": {
    "tags": []
   },
   "outputs": [
    {
     "data": {
      "text/plain": [
       "(2, 3)"
      ]
     },
     "execution_count": 38,
     "metadata": {},
     "output_type": "execute_result"
    }
   ],
   "source": [
    "A.shape"
   ]
  },
  {
   "cell_type": "code",
   "execution_count": 39,
   "id": "3663044f-3616-4875-ba23-5178a4e276a2",
   "metadata": {
    "tags": []
   },
   "outputs": [
    {
     "data": {
      "text/plain": [
       "6"
      ]
     },
     "execution_count": 39,
     "metadata": {},
     "output_type": "execute_result"
    }
   ],
   "source": [
    "A.size"
   ]
  },
  {
   "cell_type": "code",
   "execution_count": 40,
   "id": "9111ecf4-bc04-45e4-ae3e-895d208686ab",
   "metadata": {
    "tags": []
   },
   "outputs": [
    {
     "data": {
      "text/plain": [
       "dtype('int64')"
      ]
     },
     "execution_count": 40,
     "metadata": {},
     "output_type": "execute_result"
    }
   ],
   "source": [
    "A.dtype"
   ]
  },
  {
   "cell_type": "code",
   "execution_count": 41,
   "id": "0c7637ac-5ba3-46d2-902b-745c0f729e26",
   "metadata": {
    "tags": []
   },
   "outputs": [],
   "source": [
    "# Let's build a 2D-array from a list of lists\n",
    "data_list = [\n",
    "    [ 0,  1,  2,  3,  4],\n",
    "    [10, 11, 12, 13, 14],\n",
    "    [20, 21, 22, 23, 24],\n",
    "    [30, 31, 32, 33, 34],\n",
    "    [40, 41, 42, 43, 44],\n",
    "]"
   ]
  },
  {
   "cell_type": "code",
   "execution_count": 43,
   "id": "dbc9901d-635f-43af-b240-b7ea2ce8abfb",
   "metadata": {
    "tags": []
   },
   "outputs": [
    {
     "data": {
      "text/plain": [
       "[[0, 1, 2, 3, 4],\n",
       " [10, 11, 12, 13, 14],\n",
       " [20, 21, 22, 23, 24],\n",
       " [30, 31, 32, 33, 34],\n",
       " [40, 41, 42, 43, 44]]"
      ]
     },
     "execution_count": 43,
     "metadata": {},
     "output_type": "execute_result"
    }
   ],
   "source": [
    "data_list"
   ]
  },
  {
   "cell_type": "code",
   "execution_count": 44,
   "id": "c6c1d84b-ba15-4920-81f6-77230717108e",
   "metadata": {
    "tags": []
   },
   "outputs": [
    {
     "data": {
      "text/plain": [
       "array([[ 0,  1,  2,  3,  4],\n",
       "       [10, 11, 12, 13, 14],\n",
       "       [20, 21, 22, 23, 24],\n",
       "       [30, 31, 32, 33, 34],\n",
       "       [40, 41, 42, 43, 44]])"
      ]
     },
     "execution_count": 44,
     "metadata": {},
     "output_type": "execute_result"
    }
   ],
   "source": [
    "data_np = np.array(data_list)\n",
    "data_np"
   ]
  },
  {
   "cell_type": "code",
   "execution_count": 49,
   "id": "13a9c443-88d1-4230-9fe8-0e26b6e73978",
   "metadata": {
    "tags": []
   },
   "outputs": [
    {
     "data": {
      "text/plain": [
       "[21, 22, 23]"
      ]
     },
     "execution_count": 49,
     "metadata": {},
     "output_type": "execute_result"
    }
   ],
   "source": [
    "#Pure Python\n",
    "data_list[2][1:4]"
   ]
  },
  {
   "cell_type": "code",
   "execution_count": 48,
   "id": "b0c6af88-f904-4275-8cf7-b46a0c1502da",
   "metadata": {
    "tags": []
   },
   "outputs": [
    {
     "data": {
      "text/plain": [
       "array([21, 22, 23])"
      ]
     },
     "execution_count": 48,
     "metadata": {},
     "output_type": "execute_result"
    }
   ],
   "source": [
    "# Numpy array\n",
    "# data_np[2][1:4]\n",
    "data_np[2, 1:4]"
   ]
  },
  {
   "cell_type": "code",
   "execution_count": 53,
   "id": "d271501f-048a-4859-bd27-bab3b7195804",
   "metadata": {
    "tags": []
   },
   "outputs": [
    {
     "data": {
      "text/plain": [
       "[14, 24, 34, 44]"
      ]
     },
     "execution_count": 53,
     "metadata": {},
     "output_type": "execute_result"
    }
   ],
   "source": [
    "#Pure Python\n",
    "[row[4] for i, row in enumerate(data_list) if i > 0]"
   ]
  },
  {
   "cell_type": "code",
   "execution_count": 52,
   "id": "aeb0a479-3743-4668-8136-6af617fb46d9",
   "metadata": {
    "tags": []
   },
   "outputs": [
    {
     "data": {
      "text/plain": [
       "array([14, 24, 34, 44])"
      ]
     },
     "execution_count": 52,
     "metadata": {},
     "output_type": "execute_result"
    }
   ],
   "source": [
    "# Numpy array\n",
    "# data_np[1:5, 4]\n",
    "data_np[1:, 4]"
   ]
  },
  {
   "cell_type": "code",
   "execution_count": 54,
   "id": "f47eb423-8c28-4651-87ee-231c8182c7d5",
   "metadata": {
    "tags": []
   },
   "outputs": [
    {
     "data": {
      "text/plain": [
       "array([0, 1, 2, 3, 4, 5, 6, 7, 8, 9])"
      ]
     },
     "execution_count": 54,
     "metadata": {},
     "output_type": "execute_result"
    }
   ],
   "source": [
    "A = np.arange(0, 10) # exclusive\n",
    "A"
   ]
  },
  {
   "cell_type": "code",
   "execution_count": 59,
   "id": "12bca513-f444-4817-a23c-e98efa9db836",
   "metadata": {
    "tags": []
   },
   "outputs": [
    {
     "data": {
      "text/plain": [
       "array([1, 3, 5])"
      ]
     },
     "execution_count": 59,
     "metadata": {},
     "output_type": "execute_result"
    }
   ],
   "source": [
    "#[1, 3, 5]\n",
    "A[1:6:2]"
   ]
  },
  {
   "cell_type": "code",
   "execution_count": 60,
   "id": "f3429af1-1cd0-4db2-ac5b-ef4d66ae4f8f",
   "metadata": {
    "tags": []
   },
   "outputs": [],
   "source": [
    "my_list = [\n",
    "    [6, 5],\n",
    "    [1, 3],\n",
    "    [5, 6],\n",
    "    [1, 4],\n",
    "    [3, 7],\n",
    "    [5, 8],\n",
    "    [3, 5],\n",
    "    [8, 4],\n",
    "]"
   ]
  },
  {
   "cell_type": "code",
   "execution_count": 62,
   "id": "ea06405f-4105-4b42-8be9-750e12095b81",
   "metadata": {
    "tags": []
   },
   "outputs": [
    {
     "data": {
      "text/plain": [
       "[11, 4, 11, 5, 10, 13, 8, 12]"
      ]
     },
     "execution_count": 62,
     "metadata": {},
     "output_type": "execute_result"
    }
   ],
   "source": [
    "[row[0] + row[1] for row in my_list]"
   ]
  },
  {
   "cell_type": "code",
   "execution_count": 63,
   "id": "5514f333-7ed5-49e0-b4cc-f62884a6bc83",
   "metadata": {
    "tags": []
   },
   "outputs": [
    {
     "data": {
      "text/plain": [
       "array([[6, 5],\n",
       "       [1, 3],\n",
       "       [5, 6],\n",
       "       [1, 4],\n",
       "       [3, 7],\n",
       "       [5, 8],\n",
       "       [3, 5],\n",
       "       [8, 4]])"
      ]
     },
     "execution_count": 63,
     "metadata": {},
     "output_type": "execute_result"
    }
   ],
   "source": [
    "A = np.array(my_list)\n",
    "A"
   ]
  },
  {
   "cell_type": "code",
   "execution_count": 64,
   "id": "482824bd-0d18-4f68-bf42-1a49691da749",
   "metadata": {
    "tags": []
   },
   "outputs": [
    {
     "data": {
      "text/plain": [
       "array([11,  4, 11,  5, 10, 13,  8, 12])"
      ]
     },
     "execution_count": 64,
     "metadata": {},
     "output_type": "execute_result"
    }
   ],
   "source": [
    "my_sum = A[:, 0] + A[:, 1]\n",
    "my_sum"
   ]
  },
  {
   "cell_type": "code",
   "execution_count": 65,
   "id": "7c8059fb-ad29-4f14-a0a5-5259d49faa45",
   "metadata": {
    "tags": []
   },
   "outputs": [
    {
     "data": {
      "text/plain": [
       "array([6, 1, 5, 1, 3, 5, 3, 8])"
      ]
     },
     "execution_count": 65,
     "metadata": {},
     "output_type": "execute_result"
    }
   ],
   "source": [
    "A[:, 0]"
   ]
  },
  {
   "cell_type": "code",
   "execution_count": 66,
   "id": "e8edeb1c-e84a-4a35-971c-3ac1b7f9870e",
   "metadata": {
    "tags": []
   },
   "outputs": [
    {
     "data": {
      "text/plain": [
       "array([5, 3, 6, 4, 7, 8, 5, 4])"
      ]
     },
     "execution_count": 66,
     "metadata": {},
     "output_type": "execute_result"
    }
   ],
   "source": [
    "A[:, 1]"
   ]
  },
  {
   "cell_type": "code",
   "execution_count": 67,
   "id": "22d5cda4-1985-47fb-bd29-a6eec8020923",
   "metadata": {
    "tags": []
   },
   "outputs": [
    {
     "data": {
      "text/plain": [
       "array([11,  4, 11,  5, 10, 13,  8, 12])"
      ]
     },
     "execution_count": 67,
     "metadata": {},
     "output_type": "execute_result"
    }
   ],
   "source": [
    "A[:, 0] + A[:, 1]"
   ]
  },
  {
   "cell_type": "code",
   "execution_count": 68,
   "id": "e9ead4c7-0d9e-4fca-967c-2e74406def89",
   "metadata": {
    "tags": []
   },
   "outputs": [
    {
     "data": {
      "text/plain": [
       "array([[6, 5],\n",
       "       [1, 3],\n",
       "       [5, 6],\n",
       "       [1, 4],\n",
       "       [3, 7],\n",
       "       [5, 8],\n",
       "       [3, 5],\n",
       "       [8, 4]])"
      ]
     },
     "execution_count": 68,
     "metadata": {},
     "output_type": "execute_result"
    }
   ],
   "source": [
    "B = np.array(my_list)\n",
    "B"
   ]
  },
  {
   "cell_type": "code",
   "execution_count": 69,
   "id": "e417e05d-08f8-437f-a4c8-9fc6e87ac553",
   "metadata": {
    "tags": []
   },
   "outputs": [
    {
     "data": {
      "text/plain": [
       "array([32, 42])"
      ]
     },
     "execution_count": 69,
     "metadata": {},
     "output_type": "execute_result"
    }
   ],
   "source": [
    "np.sum(B,axis=0)"
   ]
  },
  {
   "cell_type": "code",
   "execution_count": 70,
   "id": "bf20ad66-5970-41c9-aeb2-e3e4fc80c0f3",
   "metadata": {
    "tags": []
   },
   "outputs": [
    {
     "data": {
      "text/plain": [
       "array([[6, 5],\n",
       "       [1, 3],\n",
       "       [5, 6],\n",
       "       [1, 4],\n",
       "       [3, 7],\n",
       "       [5, 8],\n",
       "       [3, 5],\n",
       "       [8, 4]])"
      ]
     },
     "execution_count": 70,
     "metadata": {},
     "output_type": "execute_result"
    }
   ],
   "source": [
    "B"
   ]
  },
  {
   "cell_type": "code",
   "execution_count": 71,
   "id": "58103adb-2e40-4018-b18a-bd0ace0fa2bc",
   "metadata": {
    "tags": []
   },
   "outputs": [
    {
     "data": {
      "text/plain": [
       "array([[ True, False],\n",
       "       [False, False],\n",
       "       [False,  True],\n",
       "       [False, False],\n",
       "       [False,  True],\n",
       "       [False,  True],\n",
       "       [False, False],\n",
       "       [ True, False]])"
      ]
     },
     "execution_count": 71,
     "metadata": {},
     "output_type": "execute_result"
    }
   ],
   "source": [
    "B > 5"
   ]
  },
  {
   "cell_type": "code",
   "execution_count": 72,
   "id": "0bde7de7-1df7-4c37-87da-89e8afb438c8",
   "metadata": {
    "tags": []
   },
   "outputs": [],
   "source": [
    "B[B> 5] = 10"
   ]
  },
  {
   "cell_type": "code",
   "execution_count": 73,
   "id": "446e369a-4b75-43ea-84d8-0cca372960e3",
   "metadata": {
    "tags": []
   },
   "outputs": [
    {
     "data": {
      "text/plain": [
       "array([[10,  5],\n",
       "       [ 1,  3],\n",
       "       [ 5, 10],\n",
       "       [ 1,  4],\n",
       "       [ 3, 10],\n",
       "       [ 5, 10],\n",
       "       [ 3,  5],\n",
       "       [10,  4]])"
      ]
     },
     "execution_count": 73,
     "metadata": {},
     "output_type": "execute_result"
    }
   ],
   "source": [
    "B"
   ]
  },
  {
   "cell_type": "markdown",
   "id": "7fd24d50-ae0a-4936-8ddb-4e984ed84008",
   "metadata": {},
   "source": [
    "# Pandas Series"
   ]
  },
  {
   "cell_type": "code",
   "execution_count": null,
   "id": "fb879016-902c-4af3-97d3-e4f0a120316e",
   "metadata": {},
   "outputs": [],
   "source": []
  }
 ],
 "metadata": {
  "kernelspec": {
   "display_name": "Python 3 (ipykernel)",
   "language": "python",
   "name": "python3"
  },
  "language_info": {
   "codemirror_mode": {
    "name": "ipython",
    "version": 3
   },
   "file_extension": ".py",
   "mimetype": "text/x-python",
   "name": "python",
   "nbconvert_exporter": "python",
   "pygments_lexer": "ipython3",
   "version": "3.10.6"
  }
 },
 "nbformat": 4,
 "nbformat_minor": 5
}
